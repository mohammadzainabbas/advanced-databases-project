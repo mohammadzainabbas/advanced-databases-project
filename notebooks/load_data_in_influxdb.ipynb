{
 "cells": [
  {
   "cell_type": "code",
   "execution_count": 1,
   "id": "eac40170-a8dd-4ec3-ac16-d49f9e0ce597",
   "metadata": {},
   "outputs": [],
   "source": [
    "import rx\n",
    "from rx import operators as ops\n",
    "from urllib3 import Retry\n",
    "from datetime import datetime\n",
    "from influxdb_client import InfluxDBClient, Point, WritePrecision, WriteOptions\n",
    "from influxdb_client.client.write_api import SYNCHRONOUS, ASYNCHRONOUS\n",
    "from collections import OrderedDict\n",
    "from csv import DictReader\n",
    "from os import getcwd, listdir\n",
    "from os.path import join, exists, isfile, isdir, abspath, pardir\n",
    "from time import time"
   ]
  },
  {
   "cell_type": "markdown",
   "id": "4eb8f0f5-f22a-4df6-9129-89db3417fe52",
   "metadata": {},
   "source": [
    "#### Connection Configuration(s)"
   ]
  },
  {
   "cell_type": "code",
   "execution_count": 2,
   "id": "0f2da034-b381-4cc2-a0a1-44a3e07f8937",
   "metadata": {},
   "outputs": [],
   "source": [
    "token = \"RtWgHEkMiipthr5IkT1RpRed4ZXRH-9Q8YuEzZ3pdkjgelVA83D1SZ5tF9V_NY3u7W5-lAl-GuVUC3n3mS1cCQ==\"\n",
    "org = \"ulb\"\n",
    "bucket = \"advanced_db\"\n",
    "port=8086\n",
    "url=\"http://localhost:{}\".format(port)"
   ]
  },
  {
   "cell_type": "code",
   "execution_count": 3,
   "id": "2e9529f5-b128-42d6-9a0a-249954ba5d0a",
   "metadata": {},
   "outputs": [],
   "source": [
    "parent_dir = abspath(join(getcwd(), pardir))\n",
    "data_dir = join(parent_dir, \"data\")\n",
    "book_dir = join(data_dir, \"data_books\")\n",
    "trade_dir = join(data_dir, \"data_trades\")"
   ]
  },
  {
   "cell_type": "code",
   "execution_count": 5,
   "id": "935a5c69-a43f-438d-8fd4-53e7ba4efbca",
   "metadata": {},
   "outputs": [],
   "source": [
    "# days = [1, 3, 7, 14, 30, 90]\n",
    "days = [1, 2, 3, 4, 5, 6, 7]\n",
    "trades_btc_files = sorted([join(trade_dir, x) for x in listdir(trade_dir) if isfile(join(trade_dir, x)) and str(x).__contains__(\"btc\") and len(str(x).split(\"_\")) > 2 and int(str(x).split(\"_\")[2]) in days])\n",
    "trades_eth_files = sorted([join(trade_dir, x) for x in listdir(trade_dir) if isfile(join(trade_dir, x)) and str(x).__contains__(\"eth\") and len(str(x).split(\"_\")) > 2 and int(str(x).split(\"_\")[2]) in days])\n",
    "orderbook_btc_files = sorted([join(book_dir, x) for x in listdir(book_dir) if isfile(join(book_dir, x)) and str(x).__contains__(\"btc\") and len(str(x).split(\"_\")) > 2 and int(str(x).split(\"_\")[2]) in days])"
   ]
  },
  {
   "cell_type": "markdown",
   "id": "f9190958-ac27-4fa8-8139-d3c9c2fd88c2",
   "metadata": {
    "jp-MarkdownHeadingCollapsed": true,
    "tags": []
   },
   "source": [
    "##### Helper function for parsing data"
   ]
  },
  {
   "cell_type": "code",
   "execution_count": 6,
   "id": "2a52bb58-7948-4603-a926-b65d0c8d7fa7",
   "metadata": {},
   "outputs": [],
   "source": [
    "def parse_order_book_row(row: OrderedDict):\n",
    "    return Point(\"order_book\").tag(\"symbol\", \"{}\".format(row['symbol'])) \\\n",
    "        .field(\"ask_price_5\", float(row['ask_price_5'])) \\\n",
    "        .field(\"ask_volume_5\", float(row['ask_volume_5'])) \\\n",
    "        .field(\"ask_price_4\", float(row['ask_price_4'])) \\\n",
    "        .field(\"ask_volume_4\", float(row['ask_volume_4'])) \\\n",
    "        .field(\"ask_price_3\", float(row['ask_price_3'])) \\\n",
    "        .field(\"ask_volume_3\", float(row['ask_volume_3'])) \\\n",
    "        .field(\"ask_price_2\", float(row['ask_price_2'])) \\\n",
    "        .field(\"ask_volume_2\", float(row['ask_volume_2'])) \\\n",
    "        .field(\"ask_price_1\", float(row['ask_price_1'])) \\\n",
    "        .field(\"ask_volume_1\", float(row['ask_volume_1'])) \\\n",
    "        .field(\"bid_price_1\", float(row['bid_price_1'])) \\\n",
    "        .field(\"bid_volume_1\", float(row['bid_volume_1'])) \\\n",
    "        .field(\"bid_price_2\", float(row['bid_price_2'])) \\\n",
    "        .field(\"bid_volume_2\", float(row['bid_volume_2'])) \\\n",
    "        .field(\"bid_price_3\", float(row['bid_price_3'])) \\\n",
    "        .field(\"bid_volume_3\", float(row['bid_volume_3'])) \\\n",
    "        .field(\"bid_price_4\", float(row['bid_price_4'])) \\\n",
    "        .field(\"bid_volume_4\", float(row['bid_volume_4'])) \\\n",
    "        .field(\"bid_price_5\", float(row['bid_price_5'])) \\\n",
    "        .field(\"bid_volume_5\", float(row['bid_volume_5'])) \\\n",
    "        .time(datetime.fromtimestamp(float(row['time_stamp'])))\n",
    "\n",
    "def parse_trade_row(row: OrderedDict):\n",
    "    return Point(\"trades\").tag(\"symbol\", \"{}\".format(row['symbol'])) \\\n",
    "        .field(\"side\", 1 if row['side'] == 'buy' else -1) \\\n",
    "        .field(\"price\", float(row['price'])) \\\n",
    "        .field(\"amount\", float(row['amount'])) \\\n",
    "        .time(datetime.fromtimestamp(float(row['time_stamp'])))"
   ]
  },
  {
   "cell_type": "markdown",
   "id": "4f5b3de4-6a14-4f0a-afa6-308ebc589011",
   "metadata": {
    "tags": []
   },
   "source": [
    "##### Helper function to load the data in InfluxDB"
   ]
  },
  {
   "cell_type": "code",
   "execution_count": 7,
   "id": "4bf33346-b7c7-4be8-9cc6-e00c10ecb23d",
   "metadata": {},
   "outputs": [],
   "source": [
    "def load_data_influxdb(files, parse_data_func):\n",
    "    for file in files:\n",
    "        data = list(map(parse_data_func, DictReader(open(file, 'r'))))\n",
    "        with InfluxDBClient(url=url, token=token, org=org) as client:\n",
    "            with client.write_api(write_options=ASYNCHRONOUS) as write_api:\n",
    "                start_time = time()\n",
    "                write_api.write(bucket=bucket, record=data)\n",
    "                print(\"Took {} seconds to load {} records in {}\".format( time() - start_time, len(data), file))"
   ]
  },
  {
   "cell_type": "markdown",
   "id": "d43b4919-0678-448a-a142-b6d7518818fb",
   "metadata": {},
   "source": [
    "##### Helper function to remove the bucket"
   ]
  },
  {
   "cell_type": "code",
   "execution_count": 9,
   "id": "3d30158b-e737-4239-9e9c-da6e773eb722",
   "metadata": {},
   "outputs": [],
   "source": [
    "def remove_bucket(bucket_name):\n",
    "    with InfluxDBClient(url=url, token=token, org=org) as client:\n",
    "        buckets_api = client.buckets_api()\n",
    "        start_time = time()\n",
    "        buckets_api.delete_bucket(bucket_name)\n",
    "        print(\"Took {} seconds to delete '{}' bucket\".format( time() - start_time, bucket_name ))"
   ]
  },
  {
   "cell_type": "markdown",
   "id": "c8f91b59-0dea-4407-a0f1-df4656b5d43a",
   "metadata": {},
   "source": [
    "##### Load LOB data into InfluxDB"
   ]
  },
  {
   "cell_type": "code",
   "execution_count": 8,
   "id": "272133fe-d435-4c43-8b52-6193f87c488e",
   "metadata": {},
   "outputs": [
    {
     "name": "stdout",
     "output_type": "stream",
     "text": [
      "Took 12.782481908798218 seconds to load 345622 records in /Users/mohammadzainabbas/Masters/ULB/Advanced-Databases/advanced-database-project/data/data_books/orderbook_btc_1_day.csv\n",
      "Took 25.623060941696167 seconds to load 691244 records in /Users/mohammadzainabbas/Masters/ULB/Advanced-Databases/advanced-database-project/data/data_books/orderbook_btc_2_day.csv\n",
      "Took 38.982547998428345 seconds to load 1036863 records in /Users/mohammadzainabbas/Masters/ULB/Advanced-Databases/advanced-database-project/data/data_books/orderbook_btc_3_day.csv\n",
      "Took 52.094724893569946 seconds to load 1382485 records in /Users/mohammadzainabbas/Masters/ULB/Advanced-Databases/advanced-database-project/data/data_books/orderbook_btc_4_day.csv\n",
      "Took 65.81292605400085 seconds to load 1728107 records in /Users/mohammadzainabbas/Masters/ULB/Advanced-Databases/advanced-database-project/data/data_books/orderbook_btc_5_day.csv\n",
      "Took 80.34209108352661 seconds to load 2073730 records in /Users/mohammadzainabbas/Masters/ULB/Advanced-Databases/advanced-database-project/data/data_books/orderbook_btc_6_day.csv\n",
      "Took 96.03428506851196 seconds to load 2419352 records in /Users/mohammadzainabbas/Masters/ULB/Advanced-Databases/advanced-database-project/data/data_books/orderbook_btc_7_day.csv\n"
     ]
    }
   ],
   "source": [
    "load_data_influxdb(orderbook_btc_files, parse_order_book_row)"
   ]
  },
  {
   "cell_type": "code",
   "execution_count": null,
   "id": "8c05ea8a-594e-4893-adc8-3fbcc1cac4fd",
   "metadata": {},
   "outputs": [],
   "source": [
    "for day in days:\n",
    "    "
   ]
  }
 ],
 "metadata": {
  "kernelspec": {
   "display_name": "Py Advanced DB",
   "language": "python",
   "name": "advanced_db"
  },
  "language_info": {
   "codemirror_mode": {
    "name": "ipython",
    "version": 3
   },
   "file_extension": ".py",
   "mimetype": "text/x-python",
   "name": "python",
   "nbconvert_exporter": "python",
   "pygments_lexer": "ipython3",
   "version": "3.9.7"
  }
 },
 "nbformat": 4,
 "nbformat_minor": 5
}
