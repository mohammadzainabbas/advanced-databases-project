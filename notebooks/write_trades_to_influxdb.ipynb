{
 "cells": [
  {
   "cell_type": "markdown",
   "id": "cf5ff2e1-14e7-4e6c-b8a8-5a2e5b1d083d",
   "metadata": {},
   "source": [
    "##### Import"
   ]
  },
  {
   "cell_type": "code",
   "execution_count": 37,
   "id": "6df1da5b-6370-438f-b13f-59631e7d3e2b",
   "metadata": {},
   "outputs": [],
   "source": [
    "import rx\n",
    "from rx import operators as ops\n",
    "from urllib3 import Retry\n",
    "from datetime import datetime\n",
    "from influxdb_client import InfluxDBClient, Point, WritePrecision, WriteOptions\n",
    "from influxdb_client.client.write_api import SYNCHRONOUS, ASYNCHRONOUS\n",
    "from collections import OrderedDict\n",
    "from csv import DictReader\n",
    "from os import getcwd, listdir\n",
    "from os.path import join, exists, isfile, isdir, abspath, pardir\n",
    "from time import time"
   ]
  },
  {
   "cell_type": "markdown",
   "id": "2a53ea86-2fdb-41a6-8f5b-3bb153b98f2e",
   "metadata": {},
   "source": [
    "##### Configs"
   ]
  },
  {
   "cell_type": "code",
   "execution_count": 38,
   "id": "70c89be0-b5d2-40f7-95fa-69a85c7e7ab7",
   "metadata": {},
   "outputs": [],
   "source": [
    "# You can generate an API token from the \"API Tokens Tab\" in the UI\n",
    "token = \"RtWgHEkMiipthr5IkT1RpRed4ZXRH-9Q8YuEzZ3pdkjgelVA83D1SZ5tF9V_NY3u7W5-lAl-GuVUC3n3mS1cCQ==\"\n",
    "org = \"ulb\"\n",
    "bucket = \"advanced_db\"\n",
    "port=8086\n",
    "url=\"http://localhost:{}\".format(port)"
   ]
  },
  {
   "cell_type": "code",
   "execution_count": 39,
   "id": "1cf393c4-5ca4-4325-be7d-0eef7b417e45",
   "metadata": {},
   "outputs": [],
   "source": [
    "# file_name = \"trades_btc_1_day.csv\"\n",
    "file_path = join(abspath(join(getcwd(), pardir)), \"data\", \"data_trades\")\n",
    "files = listdir(file_path)"
   ]
  },
  {
   "cell_type": "code",
   "execution_count": 40,
   "id": "2a2cc3d3-eab1-45cc-a599-7ef74d7b8cb5",
   "metadata": {},
   "outputs": [
    {
     "data": {
      "text/plain": [
       "['trades_btc_14_day.csv',\n",
       " 'trades_btc_1_day.csv',\n",
       " 'trades_btc_2_day.csv',\n",
       " 'trades_btc_30_day.csv',\n",
       " 'trades_btc_3_day.csv',\n",
       " 'trades_btc_4_day.csv',\n",
       " 'trades_btc_5_day.csv',\n",
       " 'trades_btc_6_day.csv',\n",
       " 'trades_btc_7_day.csv',\n",
       " 'trades_btc_90_day.csv',\n",
       " 'trades_eth_14_day.csv',\n",
       " 'trades_eth_1_day.csv',\n",
       " 'trades_eth_2_day.csv',\n",
       " 'trades_eth_30_day.csv',\n",
       " 'trades_eth_3_day.csv',\n",
       " 'trades_eth_4_day.csv',\n",
       " 'trades_eth_5_day.csv',\n",
       " 'trades_eth_6_day.csv',\n",
       " 'trades_eth_7_day.csv',\n",
       " 'trades_eth_90_day.csv']"
      ]
     },
     "execution_count": 40,
     "metadata": {},
     "output_type": "execute_result"
    }
   ],
   "source": [
    "files = [x for x in files if isfile(join(file_path, x)) and str(x).endswith(\"_day.csv\")]\n",
    "sorted(files)"
   ]
  },
  {
   "cell_type": "code",
   "execution_count": 41,
   "id": "c66d8040-eeb5-44df-9115-04d798a721e8",
   "metadata": {},
   "outputs": [],
   "source": [
    "def parse_trade_row(row: OrderedDict):\n",
    "    return Point(\"trades\").tag(\"symbol\", \"{}\".format(row['symbol'])) \\\n",
    "        .field(\"side\", 1 if row['side'] == 'buy' else -1) \\\n",
    "        .field(\"price\", float(row['price'])) \\\n",
    "        .field(\"amount\", float(row['amount'])) \\\n",
    "        .time(datetime.fromtimestamp(float(row['time_stamp'])))"
   ]
  },
  {
   "cell_type": "code",
   "execution_count": 42,
   "id": "189f22c3-d1c2-4b1c-bccd-81e66758c344",
   "metadata": {},
   "outputs": [
    {
     "name": "stdout",
     "output_type": "stream",
     "text": [
      "Took 3.677189826965332 seconds to load 345608 records in trades_btc_1_day.csv\n",
      "Took 18.22838592529297 seconds to load 1728001 records in trades_eth_5_day.csv\n",
      "Took 115.78496789932251 seconds to load 10368201 records in trades_btc_30_day.csv\n",
      "Took 382.1422460079193 seconds to load 30922328 records in trades_btc_90_day.csv\n",
      "Took 14.578586101531982 seconds to load 1382399 records in trades_eth_4_day.csv\n",
      "Took 21.900441884994507 seconds to load 2073599 records in trades_eth_6_day.csv\n",
      "Took 7.31665301322937 seconds to load 691215 records in trades_btc_2_day.csv\n",
      "Took 51.98059582710266 seconds to load 4838496 records in trades_btc_14_day.csv\n",
      "Took 26.10172986984253 seconds to load 2419200 records in trades_eth_7_day.csv\n",
      "Took 11.113489866256714 seconds to load 1036820 records in trades_btc_3_day.csv\n",
      "Took 55.19174909591675 seconds to load 4838401 records in trades_eth_14_day.csv\n",
      "Took 22.41773009300232 seconds to load 2073640 records in trades_btc_6_day.csv\n",
      "Took 7.507562160491943 seconds to load 691200 records in trades_eth_2_day.csv\n",
      "Took 26.096999883651733 seconds to load 2419248 records in trades_btc_7_day.csv\n",
      "Took 11.105852127075195 seconds to load 1036801 records in trades_eth_3_day.csv\n",
      "Took 3.76788592338562 seconds to load 345601 records in trades_eth_1_day.csv\n",
      "Took 22.839061975479126 seconds to load 1728035 records in trades_btc_5_day.csv\n",
      "Took 124.46283793449402 seconds to load 10368002 records in trades_eth_30_day.csv\n",
      "Took 14.820972204208374 seconds to load 1382428 records in trades_btc_4_day.csv\n",
      "Took 369.56711411476135 seconds to load 31104000 records in trades_eth_90_day.csv\n"
     ]
    }
   ],
   "source": [
    "for file in files:\n",
    "    data = list(map(parse_trade_row, DictReader(open(join(file_path, file), 'r'))))\n",
    "    with InfluxDBClient(url=url, token=token, org=org) as client:\n",
    "        with client.write_api(write_options=ASYNCHRONOUS) as write_api:\n",
    "            start_time = time()\n",
    "            write_api.write(bucket=bucket, record=data)\n",
    "            print(\"Took {} seconds to load {} records in {}\".format( time() - start_time, len(data), file))"
   ]
  },
  {
   "cell_type": "code",
   "execution_count": 8,
   "id": "3ae02b01-6dc3-4de2-a21d-dd7db47b8b4e",
   "metadata": {},
   "outputs": [],
   "source": [
    "data = list(map(parse_trade_row, DictReader(open(file_path, 'r'))))"
   ]
  },
  {
   "cell_type": "code",
   "execution_count": 17,
   "id": "b096ad3b-5ce9-44a1-a6a7-2b19c30896b7",
   "metadata": {},
   "outputs": [
    {
     "name": "stdout",
     "output_type": "stream",
     "text": [
      "Took 3.7934329509735107 seconds to load 345608 records in trades_btc_1_day.csv\n"
     ]
    }
   ],
   "source": [
    "with InfluxDBClient(url=url, token=token, org=org) as client:\n",
    "    # with client.write_api(write_options=WriteOptions(batch_size=50_000, flush_interval=10_000)) as write_api:\n",
    "    with client.write_api(write_options=ASYNCHRONOUS) as write_api:\n",
    "        start_time = time()\n",
    "        write_api.write(bucket=bucket, record=data)\n",
    "        print(\"Took {} seconds to load {} records in {}\".format( time() - start_time, len(data), file_name))"
   ]
  },
  {
   "cell_type": "code",
   "execution_count": 19,
   "id": "814ed13b-aa5a-4912-b1c0-dfde917f5f97",
   "metadata": {},
   "outputs": [
    {
     "name": "stdout",
     "output_type": "stream",
     "text": [
      "2021-11-20 01:00:00.168152\n",
      "2021-11-20 01:00:00.418139\n"
     ]
    }
   ],
   "source": [
    "_data_ = list()\n",
    "\n",
    "for index, row in enumerate(DictReader(open(file_path, 'r'))):\n",
    "    # point = parse_trade_row(row)\n",
    "    print(datetime.fromtimestamp(float(row['time_stamp'])))\n",
    "    # print(\"Rows: {}\".format(point))\n",
    "    if index == 1:\n",
    "        break"
   ]
  },
  {
   "cell_type": "code",
   "execution_count": 12,
   "id": "f3c15c37-c27b-4bd0-a2fb-b6e3266b720c",
   "metadata": {},
   "outputs": [],
   "source": [
    "client = InfluxDBClient(url=url, token=token, org=org)\n",
    "write_api = client.write_api(write_options=SYNCHRONOUS)\n",
    "query_api = client.query_api()\n",
    "\n",
    "p = Point(\"city_temp\").tag(\"location\", \"brussels\").field(\"temperature\", 25.3)\n",
    "\n",
    "write_api.write(bucket=\"demo\", record=data)\n",
    "\n",
    "## using Table structure\n",
    "tables = query_api.query('from(bucket:\"demo\") |> range(start: -10m)')"
   ]
  },
  {
   "cell_type": "code",
   "execution_count": 30,
   "id": "2729e243-b345-46ef-b2f7-06cdd9e9483b",
   "metadata": {},
   "outputs": [
    {
     "data": {
      "text/plain": [
       "<rx.core.observable.observable.Observable at 0x7fb578087dc0>"
      ]
     },
     "execution_count": 30,
     "metadata": {},
     "output_type": "execute_result"
    }
   ],
   "source": [
    "data"
   ]
  },
  {
   "cell_type": "code",
   "execution_count": 29,
   "id": "87419789-d929-4e61-b7d9-c8732ea15cb1",
   "metadata": {},
   "outputs": [],
   "source": [
    "write_api.write(bucket=\"demo\", record=data)"
   ]
  },
  {
   "cell_type": "code",
   "execution_count": 15,
   "id": "fa6c9421-5b48-48bc-9a73-947f57c9f386",
   "metadata": {},
   "outputs": [
    {
     "name": "stdout",
     "output_type": "stream",
     "text": [
      "FluxTable() columns: 9, records: 1\n",
      "{'result': '_result', 'table': 0, '_start': datetime.datetime(2021, 11, 21, 19, 22, 43, 356533, tzinfo=tzutc()), '_stop': datetime.datetime(2021, 11, 21, 19, 32, 43, 356533, tzinfo=tzutc()), '_time': datetime.datetime(2021, 11, 21, 19, 32, 42, 783335, tzinfo=tzutc()), '_value': 25.3, '_field': 'temperature', '_measurement': 'city_temp', 'location': 'brussels'}\n"
     ]
    }
   ],
   "source": [
    "for table in tables:\n",
    "    print(table)\n",
    "    for row in table.records:\n",
    "        print (row.values)\n",
    "\n",
    "\n",
    "# ## using csv library\n",
    "# csv_result = query_api.query_csv('from(bucket:\"my-bucket\") |> range(start: -10m)')\n",
    "# val_count = 0\n",
    "# for row in csv_result:\n",
    "#     for cell in row:\n",
    "#         val_count += 1"
   ]
  },
  {
   "cell_type": "code",
   "execution_count": 16,
   "id": "10dbbe41-15c9-4454-9a01-6c76e3dfa6ff",
   "metadata": {},
   "outputs": [],
   "source": [
    "csv_result = query_api.query_csv('from(bucket:\"demo\") |> range(start: -10m)')\n",
    "val_count = 0\n",
    "for row in csv_result:\n",
    "    for cell in row:\n",
    "        val_count += 1"
   ]
  },
  {
   "cell_type": "code",
   "execution_count": 28,
   "id": "4fcb082b-3c25-45d1-922d-022ed50eaa00",
   "metadata": {},
   "outputs": [
    {
     "data": {
      "text/plain": [
       "[FluxColumn(2, label='_start', data_type='dateTime:RFC3339', group=True, default_value=''),\n",
       " FluxColumn(3, label='_stop', data_type='dateTime:RFC3339', group=True, default_value=''),\n",
       " FluxColumn(6, label='_field', data_type='string', group=True, default_value=''),\n",
       " FluxColumn(7, label='_measurement', data_type='string', group=True, default_value=''),\n",
       " FluxColumn(8, label='location', data_type='string', group=True, default_value='')]"
      ]
     },
     "execution_count": 28,
     "metadata": {},
     "output_type": "execute_result"
    }
   ],
   "source": [
    "tables[0].get_group_key()"
   ]
  },
  {
   "cell_type": "code",
   "execution_count": 23,
   "id": "965b113e-649f-44bf-960a-355382b6cb33",
   "metadata": {},
   "outputs": [],
   "source": [
    "query_api = client.query_api()"
   ]
  },
  {
   "cell_type": "code",
   "execution_count": 15,
   "id": "b3174500-45b2-49ca-8915-fe8eeddf3656",
   "metadata": {},
   "outputs": [],
   "source": [
    "query = 'from(bucket:\"advanced_db\")' \\\n",
    "        ' |> range(start: 0, stop: now())' \\\n",
    "        ' |> filter(fn: (r) => r._measurement == \"trades\")'\n",
    "result = client.query_api().query(query=query)"
   ]
  },
  {
   "cell_type": "code",
   "execution_count": 16,
   "id": "0997a371-4bcc-4e27-b214-411c6c74a91e",
   "metadata": {},
   "outputs": [
    {
     "data": {
      "text/plain": [
       "[]"
      ]
     },
     "execution_count": 16,
     "metadata": {},
     "output_type": "execute_result"
    }
   ],
   "source": [
    "result"
   ]
  },
  {
   "cell_type": "code",
   "execution_count": null,
   "id": "e2618b9b-9088-4b50-a31b-ce2af76b83ca",
   "metadata": {},
   "outputs": [],
   "source": []
  }
 ],
 "metadata": {
  "kernelspec": {
   "display_name": "Py Advanced DB",
   "language": "python",
   "name": "advanced_db"
  },
  "language_info": {
   "codemirror_mode": {
    "name": "ipython",
    "version": 3
   },
   "file_extension": ".py",
   "mimetype": "text/x-python",
   "name": "python",
   "nbconvert_exporter": "python",
   "pygments_lexer": "ipython3",
   "version": "3.9.7"
  }
 },
 "nbformat": 4,
 "nbformat_minor": 5
}
