{
 "cells": [
  {
   "cell_type": "code",
   "execution_count": 1,
   "id": "7e47c214-e73b-48de-ae55-c0604a9cbdbc",
   "metadata": {},
   "outputs": [],
   "source": [
    "from cryptofeed import FeedHandler\n",
    "from cryptofeed.defines import TRADES\n",
    "from cryptofeed.exchanges import Binance\n",
    "from datetime import datetime\n",
    "from time import time\n",
    "import asyncio"
   ]
  },
  {
   "cell_type": "code",
   "execution_count": null,
   "id": "3e5a363f-449f-4359-a1e9-4364aa481467",
   "metadata": {},
   "outputs": [],
   "source": []
  },
  {
   "cell_type": "code",
   "execution_count": null,
   "id": "453058f8-a497-4a84-833b-a9775ff1a162",
   "metadata": {},
   "outputs": [],
   "source": []
  },
  {
   "cell_type": "code",
   "execution_count": null,
   "id": "13bebdc6-6999-42e1-a08f-334c75ca1aef",
   "metadata": {},
   "outputs": [],
   "source": []
  }
 ],
 "metadata": {
  "kernelspec": {
   "display_name": "Advanced DB",
   "language": "python",
   "name": "advance_db"
  },
  "language_info": {
   "codemirror_mode": {
    "name": "ipython",
    "version": 3
   },
   "file_extension": ".py",
   "mimetype": "text/x-python",
   "name": "python",
   "nbconvert_exporter": "python",
   "pygments_lexer": "ipython3",
   "version": "3.9.7"
  }
 },
 "nbformat": 4,
 "nbformat_minor": 5
}
