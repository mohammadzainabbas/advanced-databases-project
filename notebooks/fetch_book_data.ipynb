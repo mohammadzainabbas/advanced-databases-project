{
 "cells": [
  {
   "cell_type": "markdown",
   "id": "ef7ac3f9-a174-4429-96ba-e66f3672da60",
   "metadata": {},
   "source": [
    "#### Include dependencies"
   ]
  },
  {
   "cell_type": "code",
   "execution_count": 3,
   "id": "771c56e7-594b-43eb-ba2e-ec52459f3e71",
   "metadata": {},
   "outputs": [],
   "source": [
    "from cryptofeed import FeedHandler\n",
    "from cryptofeed.defines import TRADES\n",
    "from cryptofeed.exchanges import Binance\n",
    "from datetime import datetime\n",
    "from time import time\n",
    "import asyncio"
   ]
  },
  {
   "cell_type": "markdown",
   "id": "ca49c33f-5219-413f-b346-2a2dd70fd61d",
   "metadata": {},
   "source": [
    "##### Some helper methods"
   ]
  },
  {
   "cell_type": "code",
   "execution_count": 4,
   "id": "453058f8-a497-4a84-833b-a9775ff1a162",
   "metadata": {},
   "outputs": [],
   "source": [
    "# To stop asyncio main event loop\n",
    "def stop_loop():\n",
    "    loop = asyncio.get_event_loop()\n",
    "    loop.stop()\n",
    "    import nest_asyncio\n",
    "    nest_asyncio.apply()"
   ]
  },
  {
   "cell_type": "code",
   "execution_count": 5,
   "id": "68ecac1c-9f39-48cb-9d95-726d871224a9",
   "metadata": {},
   "outputs": [],
   "source": [
    "total_records = int(1e1)\n",
    "# List to store trades info\n",
    "trades = []"
   ]
  },
  {
   "cell_type": "code",
   "execution_count": 6,
   "id": "13bebdc6-6999-42e1-a08f-334c75ca1aef",
   "metadata": {},
   "outputs": [],
   "source": [
    "async def trade(data, *args, **kwargs):\n",
    "\n",
    "    temp = {}\n",
    "    temp[\"time\"], temp[\"amount\"], temp[\"symbol\"], temp[\"price\"], temp[\"side\"], temp[\"timestamp\"] = int(data.timestamp * 1000000), data.amount, data.symbol, data.price, data.side, datetime.fromtimestamp(data.timestamp)\n",
    "\n",
    "    trades.append(temp)\n",
    "\n",
    "    print(\"{}: {}\\t{}\\t{}\\t{}\\t\".format( len(trades), temp[\"time\"], temp[\"side\"], temp[\"amount\"], temp[\"price\"] ))\n",
    "\n",
    "    # Save & exit when we reach our desired no. of records\n",
    "    if len(trades) == total_records: stop_loop()"
   ]
  },
  {
   "cell_type": "code",
   "execution_count": 7,
   "id": "ca5bc4a9-361a-4834-9efc-ab145fb66b56",
   "metadata": {},
   "outputs": [],
   "source": [
    "def main():\n",
    "    try:\n",
    "        feed = FeedHandler()\n",
    "        feed.add_feed(Binance(symbols=['BTC-USDT'], channels=[TRADES], callbacks={TRADES: trade}))\n",
    "        feed.run()\n",
    "    except:\n",
    "        stop_loop()"
   ]
  },
  {
   "cell_type": "code",
   "execution_count": 8,
   "id": "b57b2d7b-f19d-4865-90a0-5ad033094465",
   "metadata": {},
   "outputs": [
    {
     "name": "stderr",
     "output_type": "stream",
     "text": [
      "2021-11-17 15:53:33,114 : ERROR : FH: Unhandled RuntimeError('This event loop is already running') - shutting down\n",
      "Traceback (most recent call last):\n",
      "  File \"/Users/mohammadzainabbas/.local/lib/python3.9/site-packages/cryptofeed/feedhandler.py\", line 163, in run\n",
      "    loop.run_forever()\n",
      "  File \"/opt/homebrew/anaconda3/envs/advance_db/lib/python3.9/asyncio/base_events.py\", line 586, in run_forever\n",
      "    self._check_running()\n",
      "  File \"/opt/homebrew/anaconda3/envs/advance_db/lib/python3.9/asyncio/base_events.py\", line 578, in _check_running\n",
      "    raise RuntimeError('This event loop is already running')\n",
      "RuntimeError: This event loop is already running\n"
     ]
    }
   ],
   "source": [
    "main()"
   ]
  },
  {
   "cell_type": "code",
   "execution_count": 1,
   "id": "4d7233e3-8be9-4273-ba66-413ebf15dcc0",
   "metadata": {},
   "outputs": [
    {
     "ename": "NameError",
     "evalue": "name 'stop_loop' is not defined",
     "output_type": "error",
     "traceback": [
      "\u001b[0;31m---------------------------------------------------------------------------\u001b[0m",
      "\u001b[0;31mNameError\u001b[0m                                 Traceback (most recent call last)",
      "\u001b[0;32m/var/folders/mm/5vsgc5194kqf1xnmgq439jww0000gn/T/ipykernel_15210/3539359873.py\u001b[0m in \u001b[0;36m<module>\u001b[0;34m\u001b[0m\n\u001b[0;32m----> 1\u001b[0;31m \u001b[0mstop_loop\u001b[0m\u001b[0;34m(\u001b[0m\u001b[0;34m)\u001b[0m\u001b[0;34m\u001b[0m\u001b[0;34m\u001b[0m\u001b[0m\n\u001b[0m",
      "\u001b[0;31mNameError\u001b[0m: name 'stop_loop' is not defined"
     ]
    }
   ],
   "source": [
    "stop_loop()"
   ]
  },
  {
   "cell_type": "code",
   "execution_count": null,
   "id": "8394ae24-ac77-4038-b80f-831ffcf8356a",
   "metadata": {},
   "outputs": [],
   "source": [
    "trades"
   ]
  },
  {
   "cell_type": "code",
   "execution_count": 1,
   "id": "eed975ab-48b3-4bf2-9a5a-97eac425e84b",
   "metadata": {},
   "outputs": [],
   "source": []
  },
  {
   "cell_type": "code",
   "execution_count": null,
   "id": "72f51392-ab14-48fa-9bd8-9de6e1b5edf5",
   "metadata": {},
   "outputs": [],
   "source": []
  }
 ],
 "metadata": {
  "kernelspec": {
   "display_name": "Py Advanced DB",
   "language": "python",
   "name": "advanced_db"
  },
  "language_info": {
   "codemirror_mode": {
    "name": "ipython",
    "version": 3
   },
   "file_extension": ".py",
   "mimetype": "text/x-python",
   "name": "python",
   "nbconvert_exporter": "python",
   "pygments_lexer": "ipython3",
   "version": "3.9.7"
  }
 },
 "nbformat": 4,
 "nbformat_minor": 5
}
